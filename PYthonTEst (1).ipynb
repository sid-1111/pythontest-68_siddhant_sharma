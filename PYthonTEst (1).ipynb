{
 "cells": [
  {
   "cell_type": "code",
   "execution_count": 74,
   "id": "fab99279-1b86-45db-af0f-616511cfcc80",
   "metadata": {},
   "outputs": [],
   "source": [
    "#question 1\n",
    "\n",
    "def pangram(list1):\n",
    "    list2=\"abcdefghijklmnopqrstuvwxyz\"\n",
    "    list1=list1.lower()\n",
    "    if len(set(list1)) != len(set(list2)):\n",
    "        print(\"not pangram\")\n",
    "        for i in set(list2):\n",
    "            if i not in set(list1):\n",
    "                print(i,end=\",\")\n",
    "    else:\n",
    "        print(\"pangram\")\n",
    "        \n",
    "\n",
    "            "
   ]
  },
  {
   "cell_type": "code",
   "execution_count": 80,
   "id": "5023cfe7-de7c-491b-8056-8437a00e6274",
   "metadata": {},
   "outputs": [
    {
     "name": "stdout",
     "output_type": "stream",
     "text": [
      "not pangram\n",
      "g,d,z,a,l,y,"
     ]
    }
   ],
   "source": [
    "pangram(\"The quick brown Fox Jumps over the\")"
   ]
  },
  {
   "cell_type": "code",
   "execution_count": 84,
   "id": "a9b83306-f21d-49b9-b792-6b7f3bff7c93",
   "metadata": {},
   "outputs": [],
   "source": [
    "#inventory management system"
   ]
  },
  {
   "cell_type": "code",
   "execution_count": 117,
   "id": "7b8f3c8c-c25a-4109-b2f2-6dc80894f5e4",
   "metadata": {},
   "outputs": [],
   "source": [
    "inventory={}"
   ]
  },
  {
   "cell_type": "code",
   "execution_count": 119,
   "id": "9b0b9420-7b96-492e-84ca-0281b772ce06",
   "metadata": {},
   "outputs": [],
   "source": [
    "def data_parsing():\n",
    "    file=open(\"read_inventory_data\",\"w\")"
   ]
  },
  {
   "cell_type": "code",
   "execution_count": 121,
   "id": "548556ef-ebe8-4abe-8c02-00601d926833",
   "metadata": {},
   "outputs": [],
   "source": [
    "def data_validation(price,quantity):\n",
    "    if price>0 and quantity>=0:\n",
    "        print(\"It is Valid price and Quantity\")\n",
    "    else:\n",
    "        print(\"Invalid Price or Quantity......\")\n",
    "    "
   ]
  },
  {
   "cell_type": "code",
   "execution_count": 123,
   "id": "fc681b28-05e9-4122-9670-72ae43eced3b",
   "metadata": {},
   "outputs": [],
   "source": [
    "def sales_revenue():\n",
    "    data_total_sales=inventory[quantity]\n",
    "    sum=0\n",
    "    for i in data_total_sales:\n",
    "        sum+=i\n",
    "    return sum"
   ]
  },
  {
   "cell_type": "code",
   "execution_count": 129,
   "id": "3307355f-77d4-4f9e-a5c9-56df93e7367c",
   "metadata": {},
   "outputs": [],
   "source": [
    "def create_data():\n",
    "    while True:\n",
    "        product_name=input(\"enter name of product \")\n",
    "        print(\"-----Categories------\")\n",
    "        print(\"1. Electronics\")\n",
    "        print(\"2. Clothing\")\n",
    "        print(\"3. Groceries\")\n",
    "        choise=int(input(\"enter your choise: \"))\n",
    "        if choise ==1:\n",
    "            category=\"Electronics\"\n",
    "        elif choise==2:\n",
    "            category=\"Clothing\"\n",
    "        elif choise==3:\n",
    "            category=\"Groceries\"\n",
    "        else:\n",
    "            print(\"invalid choise\")\n",
    "        price=int(input(f\"enter price for {product_name} in {category_r}: \"))\n",
    "        \n",
    "        quantity=int(input(f\"enter quantity of {product_name} in {category}:\"))\n",
    "        \n",
    "        data_validation(price,quantity)\n",
    "        \n",
    "        query=int(input(\"do you want to add more product details \\n 1. continue \\n 2.exit\"))\n",
    "        if query==1:\n",
    "            inventory={\"product\":product_name,\"category\":category,\"price\":price,\"quantity\":quantity}\n",
    "            pass\n",
    "        else:\n",
    "            break\n",
    "    "
   ]
  },
  {
   "cell_type": "code",
   "execution_count": 131,
   "id": "f1fbdb60-3688-4251-bb4e-b09bd6a53cae",
   "metadata": {},
   "outputs": [],
   "source": [
    "def report_generation():\n",
    "    data=[]\n",
    "    data=inventory.items()\n",
    "    data_parsing()\n",
    "    fw=open(\"read_inventory_data\",\"w\")\n",
    "    fw.write(data)"
   ]
  },
  {
   "cell_type": "code",
   "execution_count": 135,
   "id": "e30f7b6f-c113-4f37-ab86-274c8f4c5d1e",
   "metadata": {},
   "outputs": [
    {
     "name": "stdout",
     "output_type": "stream",
     "text": [
      "inventory management system\n",
      "1. ceate data\n",
      "2. for sales revenue calculation\n",
      "3. report\n"
     ]
    },
    {
     "name": "stdin",
     "output_type": "stream",
     "text": [
      "enter your choise:  0\n"
     ]
    },
    {
     "name": "stdout",
     "output_type": "stream",
     "text": [
      "Invalid Option.....\n"
     ]
    }
   ],
   "source": [
    "print(\"inventory management system\")\n",
    "print(\"1. ceate data\")\n",
    "print(\"2. for sales revenue calculation\")\n",
    "print(\"3. report\")\n",
    "ch=int(input(\"enter your choise: \"))\n",
    "if ch==1:\n",
    "    create_data()\n",
    "elif ch==2:\n",
    "    print(\"Sales Ravenue is: \",sales_revenue())\n",
    "elif ch==3:\n",
    "    report_generation()\n",
    "else:\n",
    "    print(\"Invalid Option.....\")\n",
    "    \n",
    "    \n",
    "    \n",
    "    \n",
    "    "
   ]
  },
  {
   "cell_type": "code",
   "execution_count": null,
   "id": "c9ffe8a7-7852-4eae-8064-c4a2e8f8807d",
   "metadata": {},
   "outputs": [],
   "source": []
  }
 ],
 "metadata": {
  "kernelspec": {
   "display_name": "Python [conda env:base] *",
   "language": "python",
   "name": "conda-base-py"
  },
  "language_info": {
   "codemirror_mode": {
    "name": "ipython",
    "version": 3
   },
   "file_extension": ".py",
   "mimetype": "text/x-python",
   "name": "python",
   "nbconvert_exporter": "python",
   "pygments_lexer": "ipython3",
   "version": "3.12.7"
  }
 },
 "nbformat": 4,
 "nbformat_minor": 5
}
